{
  "nbformat": 4,
  "nbformat_minor": 0,
  "metadata": {
    "colab": {
      "private_outputs": true,
      "provenance": [],
      "include_colab_link": true
    },
    "kernelspec": {
      "name": "python3",
      "display_name": "Python 3"
    },
    "language_info": {
      "name": "python"
    }
  },
  "cells": [
    {
      "cell_type": "markdown",
      "metadata": {
        "id": "view-in-github",
        "colab_type": "text"
      },
      "source": [
        "<a href=\"https://colab.research.google.com/github/muttu2244/test-1_-MLOPs-B3/blob/main/Copy_of_AIMLOPS_20240309.ipynb\" target=\"_parent\"><img src=\"https://colab.research.google.com/assets/colab-badge.svg\" alt=\"Open In Colab\"/></a>"
      ]
    },
    {
      "cell_type": "markdown",
      "source": [
        "# Prime check\n",
        "# 1..20"
      ],
      "metadata": {
        "id": "Cm8jPs0NPhi6"
      }
    },
    {
      "cell_type": "markdown",
      "source": [
        "# if $N$ = $a \\times b$\n",
        "\n",
        "and  \n",
        "\n",
        "# $a > \\sqrt{N} \\Rightarrow b < \\sqrt{N}$  \n",
        "\n",
        "# which means if a number has no factor below $\\sqrt{N}$ it **is** a prime"
      ],
      "metadata": {
        "id": "wLSjjh31UThA"
      }
    },
    {
      "cell_type": "code",
      "source": [],
      "metadata": {
        "id": "MpCEqEgOVjwX"
      },
      "execution_count": null,
      "outputs": []
    },
    {
      "cell_type": "markdown",
      "source": [
        "## $2520$ is the smallest number that can be divided by each of the numbers from $1$ to $10$ without any remainder.\n",
        "\n",
        "## What is the smallest positive number that is **evenly divisible** divisible with no remainder by all of the numbers from $1$ to $20$?\n"
      ],
      "metadata": {
        "id": "PJVDlZwgWqjz"
      }
    },
    {
      "cell_type": "code",
      "source": [
        "def gcd(a: int, b: int) -> int:\n",
        "    if a % b == 0:\n",
        "        return b\n",
        "    return gcd(b, a % b)"
      ],
      "metadata": {
        "id": "MJozzCWiW12P"
      },
      "execution_count": null,
      "outputs": []
    },
    {
      "cell_type": "code",
      "source": [
        "gcd(10, 15)"
      ],
      "metadata": {
        "id": "qil7akrKXbZN"
      },
      "execution_count": null,
      "outputs": []
    },
    {
      "cell_type": "code",
      "source": [
        "gcd(26, 65)"
      ],
      "metadata": {
        "id": "uW1U2PCvXcpu"
      },
      "execution_count": null,
      "outputs": []
    },
    {
      "cell_type": "code",
      "source": [
        "def lcm2(a: int, b: int) -> int:\n",
        "    return (a * b) // gcd(a, b)"
      ],
      "metadata": {
        "id": "jGMXTvhdXeqp"
      },
      "execution_count": null,
      "outputs": []
    },
    {
      "cell_type": "code",
      "source": [
        "lcm2(10, 15)"
      ],
      "metadata": {
        "id": "_QD7uny-Xnex"
      },
      "execution_count": null,
      "outputs": []
    },
    {
      "cell_type": "code",
      "source": [
        "lcm2(26, 65)"
      ],
      "metadata": {
        "id": "RTBn9GBUXpF4"
      },
      "execution_count": null,
      "outputs": []
    },
    {
      "cell_type": "code",
      "source": [
        "10 // 15"
      ],
      "metadata": {
        "id": "bXBCPurmXrFB"
      },
      "execution_count": null,
      "outputs": []
    },
    {
      "cell_type": "code",
      "source": [
        "10 % 15"
      ],
      "metadata": {
        "id": "ZE3HA2a8YVpL"
      },
      "execution_count": null,
      "outputs": []
    },
    {
      "cell_type": "code",
      "source": [
        "15 % 10"
      ],
      "metadata": {
        "id": "kxAw5bCcYWWi"
      },
      "execution_count": null,
      "outputs": []
    },
    {
      "cell_type": "code",
      "source": [
        "def gcd(a: int, b: int) -> int:\n",
        "    if a % b == 0:\n",
        "        return b\n",
        "    return gcd(b, a % b)\n",
        "\n",
        "def lcm2(a: int, b: int) -> int:\n",
        "    return (a * b) // gcd(a, b)\n",
        "\n",
        "def lcm(nums: list[int]) -> int:\n",
        "    if len(nums) == 1:\n",
        "        return nums[0]\n",
        "    elif len(nums) == 2:\n",
        "        return lcm2(nums[0], nums[1])\n",
        "    else:\n",
        "        return lcm([lcm2(nums[0], nums[1])] + nums[2:])"
      ],
      "metadata": {
        "id": "LnhSCLbIYeyt"
      },
      "execution_count": null,
      "outputs": []
    },
    {
      "cell_type": "code",
      "source": [
        "[5] + [1, 2, 4]"
      ],
      "metadata": {
        "id": "OYRWtUREcvfy"
      },
      "execution_count": null,
      "outputs": []
    },
    {
      "cell_type": "code",
      "source": [
        "def lcm(nums: list[int]) -> int:\n",
        "    return fold(lcm2, nums)"
      ],
      "metadata": {
        "id": "onHVYiZvicj-"
      },
      "execution_count": null,
      "outputs": []
    },
    {
      "cell_type": "markdown",
      "source": [
        "l"
      ],
      "metadata": {
        "id": "vSkVW_R7Y2Vz"
      }
    },
    {
      "cell_type": "code",
      "source": [
        "import functools as ft\n",
        "\n",
        "def gcd(a: int, b: int) -> int:\n",
        "    if a % b == 0:\n",
        "        return b\n",
        "    return gcd(b, a % b)\n",
        "\n",
        "def lcm2(a: int, b: int) -> int:\n",
        "    return (a * b) // gcd(a, b)\n",
        "\n",
        "def lcm(nums: list[int]) -> int:\n",
        "    return ft.reduce(lcm2, nums)"
      ],
      "metadata": {
        "id": "EWxfKUYqhNkF"
      },
      "execution_count": null,
      "outputs": []
    },
    {
      "cell_type": "code",
      "source": [
        "lcm(range(1, 11))"
      ],
      "metadata": {
        "id": "cN-kPs2WhRAa"
      },
      "execution_count": null,
      "outputs": []
    },
    {
      "cell_type": "code",
      "source": [
        "def digits_to_num(digits: list[int]) -> int:\n",
        "    return ft.reduce(lambda x, y: 10 * x + y, digits)"
      ],
      "metadata": {
        "id": "whQpLQESiqS6"
      },
      "execution_count": null,
      "outputs": []
    },
    {
      "cell_type": "code",
      "source": [
        "digits_to_num([1, 8, 2, 9, 3])"
      ],
      "metadata": {
        "id": "vZxEaU7Jiu2s"
      },
      "execution_count": null,
      "outputs": []
    },
    {
      "cell_type": "markdown",
      "source": [
        "Change this function, and make it optimal and apply best programming practices\n",
        "\n",
        "def myfunc(a):\n",
        "    empty=[]\n",
        "    for i in range(len(a)):\n",
        "        if i%2==0:\n",
        "            empty.append(a[i].upper())\n",
        "        else:\n",
        "            empty.append(a[i].lower())\n",
        "\n",
        "    return \"\".join(empty)\n",
        "\n",
        "Rough work :  \n",
        "a = [4, 3, 7, 9]\n",
        "for loop runs from 0th index to 3rd index of the list (4 items)\n",
        "if ith element is even append it to\n",
        "  \n"
      ],
      "metadata": {
        "id": "1b8i9O3LjKOk"
      }
    },
    {
      "cell_type": "code",
      "source": [
        "def myfunc(a):\n",
        "    empty=[]\n",
        "    for i in range(len(a)):\n",
        "        if i%2==0:\n",
        "            empty.append(a[i].upper())\n",
        "        else:\n",
        "            empty.append(a[i].lower())\n",
        "\n",
        "    return \"\".join(empty)"
      ],
      "metadata": {
        "id": "37ocs2LdjCO0"
      },
      "execution_count": null,
      "outputs": []
    },
    {
      "cell_type": "code",
      "source": [
        "s = 'Hello'"
      ],
      "metadata": {
        "id": "31LhoGYDvcL-"
      },
      "execution_count": null,
      "outputs": []
    },
    {
      "cell_type": "code",
      "source": [
        "3%15\n",
        "\n"
      ],
      "metadata": {
        "id": "LyrfvZtQvk7v"
      },
      "execution_count": null,
      "outputs": []
    },
    {
      "cell_type": "code",
      "source": [
        "def make_fizzbuzz(f, limit: int) -> list[str]:\n",
        "    return [f(_) for _ in range(1, limit)]\n",
        "    # return [f(k) for k in range(1, limit)]"
      ],
      "metadata": {
        "id": "tLp5bhHj34WE"
      },
      "execution_count": null,
      "outputs": []
    },
    {
      "cell_type": "code",
      "source": [
        "def fizzbuzz1(n: int) -> str:\n",
        "    if n % 15 == 0:\n",
        "        return \"FIZZBUZZ\"\n",
        "    elif n % 3 == 0:\n",
        "        return \"FIZZ\"\n",
        "    elif n % 5 == 0:\n",
        "        return \"BUZZ\"\n",
        "    else:\n",
        "        return str(n)"
      ],
      "metadata": {
        "id": "tTS0Mxl7379u"
      },
      "execution_count": null,
      "outputs": []
    },
    {
      "cell_type": "code",
      "source": [
        "print(make_fizzbuzz(fizzbuzz1, 16))"
      ],
      "metadata": {
        "id": "4BwzGIe_4ABG"
      },
      "execution_count": null,
      "outputs": []
    },
    {
      "cell_type": "markdown",
      "source": [],
      "metadata": {
        "id": "5lGBkKn_339f"
      }
    },
    {
      "cell_type": "code",
      "source": [
        "def fizzbuzz4(n: int) -> str:\n",
        "    fbs = [\"FIZZBUZZ\", \"\", \"\", \"FIZZ\", \"\", \"BUZZ\", \"FIZZ\", \"\", \"\", \"FIZZ\", \"BUZZ\",\n",
        "           \"\", \"FIZZ\", \"\", \"\"]\n",
        "    pos = n % 15\n",
        "    if fbs[pos] == \"\":\n",
        "        return str(n)\n",
        "    else:\n",
        "        return fbs[pos]"
      ],
      "metadata": {
        "id": "OkwJawH0_fAK"
      },
      "execution_count": null,
      "outputs": []
    },
    {
      "cell_type": "code",
      "source": [
        "make_fizzbuzz(fizzbuzz4, 31)"
      ],
      "metadata": {
        "id": "dkJMFPjW_iB5"
      },
      "execution_count": null,
      "outputs": []
    },
    {
      "cell_type": "code",
      "source": [
        "def fizzbuzz5(n: int, a = 3, b = 5) -> str:\n",
        "    fbs = {(True, True):   \"FIZZBUZZ\",\n",
        "           (True, False):  \"FIZZ\",\n",
        "           (False, True):  \"BUZZ\",\n",
        "           (False, False): str(n)}\n",
        "    return fbs[(n % a == 0, n % b == 0)]"
      ],
      "metadata": {
        "id": "zeOcHYcQCbTa"
      },
      "execution_count": null,
      "outputs": []
    },
    {
      "cell_type": "code",
      "source": [
        "fizzbuzz5(12)"
      ],
      "metadata": {
        "id": "a3Gobgg-CenI"
      },
      "execution_count": null,
      "outputs": []
    },
    {
      "cell_type": "code",
      "source": [
        "print(make_fizzbuzz(fizzbuzz5, 30))"
      ],
      "metadata": {
        "id": "dU5ajgbDCmdR"
      },
      "execution_count": null,
      "outputs": []
    },
    {
      "cell_type": "code",
      "source": [
        "def pick(n: int) -> int:\n",
        "    return 2 * int(n % 5 == 0) + int(n % 3 == 0)\n",
        "\n",
        "def fizzbuzz6(n: int) -> str:\n",
        "    return [str(n), \"FIZZ\", \"BUZZ\", \"FIZZBUZZ\"][pick(n)]"
      ],
      "metadata": {
        "id": "JMV7zr-gCrJ6"
      },
      "execution_count": null,
      "outputs": []
    },
    {
      "cell_type": "code",
      "source": [
        "pick(1)"
      ],
      "metadata": {
        "id": "mtUi-ueZIcaP"
      },
      "execution_count": null,
      "outputs": []
    },
    {
      "cell_type": "code",
      "source": [
        "2 * int(5 % 5 == 0) + int(5 % 3 == 0)"
      ],
      "metadata": {
        "id": "UF5ljMltIuuC"
      },
      "execution_count": null,
      "outputs": []
    },
    {
      "cell_type": "code",
      "source": [
        "print(make_fizzbuzz(fizzbuzz6, 16))"
      ],
      "metadata": {
        "id": "PUUa-V0MCupI"
      },
      "execution_count": null,
      "outputs": []
    },
    {
      "cell_type": "code",
      "source": [
        "def make_fizzbuzz2(limit: int) -> list[str]:\n",
        "    fbs = [str(n) for n in range(limit)]\n",
        "    fbs[::3] = [\"FIZZ\"] * len(fbs[::3])\n",
        "    fbs[::5] = [\"BUZZ\"] * len(fbs[::5])\n",
        "    fbs[::15] = [\"FIZZBUZZ\"] * len(fbs[::15])\n",
        "    return fbs[1:]"
      ],
      "metadata": {
        "id": "-Q4Yds6SFZkg"
      },
      "execution_count": null,
      "outputs": []
    },
    {
      "cell_type": "code",
      "source": [
        "print(make_fizzbuzz2(31))"
      ],
      "metadata": {
        "id": "P6h5E7SvFilq"
      },
      "execution_count": null,
      "outputs": []
    },
    {
      "cell_type": "code",
      "source": [
        "import itertools as it\n",
        "\n",
        "def select(t: tuple) -> bool:\n",
        "    return sum(t) == 0\n",
        "\n",
        "def problem(nums: list) -> list[tuple]:\n",
        "    return [t for t in it.combinations(nums, 3) if select(t)]"
      ],
      "metadata": {
        "id": "FuKQg3ePcAG0"
      },
      "execution_count": null,
      "outputs": []
    },
    {
      "cell_type": "markdown",
      "source": [
        "Euler 8"
      ],
      "metadata": {
        "id": "Yrv1FIryclU-"
      }
    },
    {
      "cell_type": "code",
      "source": [
        "euler8 = \"73167176531330624919225119674426574742355349194934\\\n",
        "96983520312774506326239578318016984801869478851843\\\n",
        "85861560789112949495459501737958331952853208805511\\\n",
        "12540698747158523863050715693290963295227443043557\\\n",
        "66896648950445244523161731856403098711121722383113\\\n",
        "62229893423380308135336276614282806444486645238749\\\n",
        "30358907296290491560440772390713810515859307960866\\\n",
        "70172427121883998797908792274921901699720888093776\\\n",
        "65727333001053367881220235421809751254540594752243\\\n",
        "52584907711670556013604839586446706324415722155397\\\n",
        "53697817977846174064955149290862569321978468622482\\\n",
        "83972241375657056057490261407972968652414535100474\\\n",
        "82166370484403199890008895243450658541227588666881\\\n",
        "16427171479924442928230863465674813919123162824586\\\n",
        "17866458359124566529476545682848912883142607690042\\\n",
        "24219022671055626321111109370544217506941658960408\\\n",
        "07198403850962455444362981230987879927244284909188\\\n",
        "84580156166097919133875499200524063689912560717606\\\n",
        "05886116467109405077541002256983155200055935729725\\\n",
        "71636269561882670428252483600823257530420752963450\""
      ],
      "metadata": {
        "id": "6racInmpcn4m"
      },
      "execution_count": null,
      "outputs": []
    },
    {
      "cell_type": "code",
      "source": [
        "len(euler8)"
      ],
      "metadata": {
        "id": "1sWGyur1hCa6"
      },
      "execution_count": null,
      "outputs": []
    },
    {
      "cell_type": "markdown",
      "source": [],
      "metadata": {
        "id": "2qWb67d2FgkC"
      }
    },
    {
      "cell_type": "code",
      "source": [
        "def prod(s: str) -> int:\n",
        "    if '0' in s:\n",
        "        return 0\n",
        "    p = 1\n",
        "    for ch in s:\n",
        "        p *= int(ch)\n",
        "    return p"
      ],
      "metadata": {
        "id": "iCb25CavhJp0"
      },
      "execution_count": null,
      "outputs": []
    },
    {
      "cell_type": "code",
      "source": [
        "prod('7256')"
      ],
      "metadata": {
        "id": "ZwV6v5jbhN7W"
      },
      "execution_count": null,
      "outputs": []
    },
    {
      "cell_type": "code",
      "source": [
        "def euler008(s: str, step: int) -> tuple:\n",
        "    max_prod = 0\n",
        "    max_window_start = 0\n",
        "    for start in range(1 + len(s) - step):\n",
        "        window = s[start: start + step]\n",
        "        w_prod = prod(window)\n",
        "        if max_prod < w_prod:\n",
        "            max_prod = w_prod\n",
        "            max_window_start = start\n",
        "    return s[max_window_start:max_window_start + step], max_prod"
      ],
      "metadata": {
        "id": "61oAGpuMhUup"
      },
      "execution_count": null,
      "outputs": []
    },
    {
      "cell_type": "code",
      "source": [
        "sample = \"ABCDEFGHI\"\n",
        "step = 4\n",
        "for i in range(1 + len(sample) - step):\n",
        "    print(sample[i: i + step])"
      ],
      "metadata": {
        "id": "6z4q86bMhf6i"
      },
      "execution_count": null,
      "outputs": []
    },
    {
      "cell_type": "code",
      "source": [
        "print(euler008(euler8, 4))"
      ],
      "metadata": {
        "id": "aoZUwTfYhqw7"
      },
      "execution_count": null,
      "outputs": []
    },
    {
      "cell_type": "code",
      "source": [
        "print(euler008(euler8, 13))"
      ],
      "metadata": {
        "id": "JiPAlVOFiqFW"
      },
      "execution_count": null,
      "outputs": []
    },
    {
      "cell_type": "markdown",
      "source": [
        "Amicable pairs\n",
        "\n",
        "Let d(n) be defined as the sum of proper divisors of n (numbers less than n which divide evenly into n).\n",
        "\n",
        "If d(a)=b and d(b)=a, where a≠b, then a and b are an amicable pair and each of a and b are called amicable numbers.\n",
        "\n",
        "For example, the proper divisors of 220 are 1,2,4,5,10,11,20,22,44,55 and 110; therefore d(220)=284. The proper divisors of 284 are 1,2,4,71 and 142; so d(284)=220.\n",
        "\n",
        "Evaluate the sum of all the amicable numbers under 10000."
      ],
      "metadata": {
        "id": "gty4sGdAiwot"
      }
    },
    {
      "cell_type": "code",
      "source": [
        "mylist = [1,2,4,5,10,11,20,22,44,55,110 ]\n",
        "sum(mylist)"
      ],
      "metadata": {
        "id": "6J63lk-Vj-R5"
      },
      "execution_count": null,
      "outputs": []
    },
    {
      "cell_type": "code",
      "source": [
        "mylist1 = [1,2,4,71,142]\n",
        "sum(mylist1)"
      ],
      "metadata": {
        "id": "qU1xMxx4kNFY"
      },
      "execution_count": null,
      "outputs": []
    },
    {
      "cell_type": "code",
      "source": [
        "def aliquot(n: int) -> int:\n",
        "    '''aliquot of a number is defined as the sum of proper divisors of N\n",
        "     that is numbers less than N which divide evenly into N.'''\n",
        "    aliq, r = 1, 2\n",
        "    while r * r < n:\n",
        "        if n % r == 0:\n",
        "            aliq += r + (n//r)\n",
        "        r += 1\n",
        "    if (n // r) == r:\n",
        "        aliq += r\n",
        "    return aliq"
      ],
      "metadata": {
        "id": "bO8t9cYZjJZO"
      },
      "execution_count": null,
      "outputs": []
    },
    {
      "cell_type": "code",
      "source": [
        "220 % 2 == 0\n"
      ],
      "metadata": {
        "id": "Tlx44gQGljP_"
      },
      "execution_count": null,
      "outputs": []
    },
    {
      "cell_type": "code",
      "source": [
        "220 // 2"
      ],
      "metadata": {
        "id": "VyfgcZmrl2l8"
      },
      "execution_count": null,
      "outputs": []
    },
    {
      "cell_type": "code",
      "source": [],
      "metadata": {
        "id": "7fu7objilupU"
      },
      "execution_count": null,
      "outputs": []
    },
    {
      "cell_type": "code",
      "source": [
        "aliquot(220)"
      ],
      "metadata": {
        "id": "IICFNy_QjMJm"
      },
      "execution_count": null,
      "outputs": []
    },
    {
      "cell_type": "code",
      "source": [
        "aliquot(284)"
      ],
      "metadata": {
        "id": "84AMAdD_jUkT"
      },
      "execution_count": null,
      "outputs": []
    },
    {
      "cell_type": "code",
      "source": [
        "def amicable_pairs(start: int, limit: int) -> list[tuple]:\n",
        "    amicables = []\n",
        "    for n in range(start, limit):\n",
        "        dn = aliquot(n)\n",
        "        if dn > n:\n",
        "            if aliquot(dn) == n:\n",
        "                amicables.append((n, dn))\n",
        "    return amicables"
      ],
      "metadata": {
        "id": "SouLYfV8jeyO"
      },
      "execution_count": null,
      "outputs": []
    },
    {
      "cell_type": "code",
      "source": [
        "amicable_pairs(100, 1000)"
      ],
      "metadata": {
        "id": "q-O5LKxxjmG6"
      },
      "execution_count": null,
      "outputs": []
    },
    {
      "cell_type": "code",
      "source": [
        "amicable_pairs(1, 10000)"
      ],
      "metadata": {
        "id": "Z29_qK20jsrF"
      },
      "execution_count": null,
      "outputs": []
    },
    {
      "cell_type": "markdown",
      "source": [
        "A number is described as A or D or V or P or X.\n",
        "\n",
        "A  ⇒  digits are ascending; eg 1789\n",
        "\n",
        "D  ⇒  digits are descending; eg 421\n",
        "\n",
        "P  ⇒  digits are ascending and then; descending PEAK eg 127532\n",
        "\n",
        "V  ⇒  digits are descending and then ascending VALLEY; eg 973478\n",
        "\n",
        "X  ≠  A or D or P or V\n",
        "\n",
        "\n",
        "\n"
      ],
      "metadata": {
        "id": "Ql4DXXgbo1sT"
      }
    },
    {
      "cell_type": "code",
      "source": [
        "def is_ascending(n: int) -> bool:\n",
        "    return all([a < b for a, b in zip(str(n), str(n)[1:])])"
      ],
      "metadata": {
        "id": "RHf5jMK_o223"
      },
      "execution_count": null,
      "outputs": []
    },
    {
      "cell_type": "code",
      "source": [
        "is_ascending(1789)"
      ],
      "metadata": {
        "id": "YjkQA9NunjhN"
      },
      "execution_count": null,
      "outputs": []
    },
    {
      "cell_type": "code",
      "source": [
        "str(1789)[1:]"
      ],
      "metadata": {
        "id": "IskF8SdCtMMc"
      },
      "execution_count": null,
      "outputs": []
    },
    {
      "cell_type": "code",
      "source": [
        "for a, b in zip(str(1789), str(1789)[1:]):\n",
        "  print(a)\n",
        "  print(b)"
      ],
      "metadata": {
        "id": "XotN5a9vqVKT"
      },
      "execution_count": null,
      "outputs": []
    },
    {
      "cell_type": "code",
      "source": [
        "[a < b for a, b in zip(str(1789), str(1789)[1:])]"
      ],
      "metadata": {
        "id": "rRRMhoAkrUk5"
      },
      "execution_count": null,
      "outputs": []
    },
    {
      "cell_type": "code",
      "source": [
        "def is_descending(n: int) -> bool:\n",
        "    return all([a > b for a, b in zip(str(n)[:-1], str(n)[-1])])"
      ],
      "metadata": {
        "id": "HQj-WMd9tdl-"
      },
      "execution_count": null,
      "outputs": []
    },
    {
      "cell_type": "code",
      "source": [
        "str(9781)[:-1]"
      ],
      "metadata": {
        "id": "iwGms0hut022"
      },
      "execution_count": null,
      "outputs": []
    },
    {
      "cell_type": "code",
      "source": [
        "for a, b in zip(str(9781)[:-1], str(9781)[-1]):\n",
        "  print(a)\n"
      ],
      "metadata": {
        "id": "1hTPvEfiucDD"
      },
      "execution_count": null,
      "outputs": []
    },
    {
      "cell_type": "code",
      "source": [
        "is_descending(7631)"
      ],
      "metadata": {
        "id": "c13kevaBtmrs"
      },
      "execution_count": null,
      "outputs": []
    },
    {
      "cell_type": "code",
      "source": [
        "def is_peak(n: int) -> bool:\n",
        "    s = str(n)\n",
        "    triplets = [a < b > c for a, b, c in zip(s, s[1:], s[2:])]\n",
        "    return len([x for x in triplets if x]) == 1"
      ],
      "metadata": {
        "id": "lz34r2HexiPQ"
      },
      "execution_count": null,
      "outputs": []
    },
    {
      "cell_type": "code",
      "source": [
        "def is_valley(n: int) -> bool:\n",
        "    s = str(n)\n",
        "    triplets = [a > b < c for a, b, c in zip(s, s[1:], s[2:])]\n",
        "    return len([x for x in triplets if x]) == 1"
      ],
      "metadata": {
        "id": "vhijsqQRrZAk"
      },
      "execution_count": null,
      "outputs": []
    },
    {
      "cell_type": "code",
      "source": [
        "def classify(n: int) -> str:\n",
        "    if is_ascending(n):\n",
        "        return 'A'\n",
        "    elif is_descending(n):\n",
        "        return 'D'\n",
        "    elif is_peak(n):\n",
        "        return 'P'\n",
        "    elif is_valley(n):\n",
        "        return 'V'\n",
        "    else:\n",
        "        return 'X'"
      ],
      "metadata": {
        "id": "v8awPuiIrZwM"
      },
      "execution_count": null,
      "outputs": []
    },
    {
      "cell_type": "code",
      "source": [
        "def is_peak2(n: int) -> bool:\n",
        "    s = str(n)\n",
        "    peak = max(s)\n",
        "    pieces = s.split(peak)\n",
        "    return len(pieces) == 2 and is_ascending(pieces[0]) and is_descending(pieces[1])"
      ],
      "metadata": {
        "id": "FqXG_ozerxE1"
      },
      "execution_count": null,
      "outputs": []
    },
    {
      "cell_type": "code",
      "source": [
        "classify(973478)"
      ],
      "metadata": {
        "id": "ajHSAQhtr7AV"
      },
      "execution_count": null,
      "outputs": []
    },
    {
      "cell_type": "markdown",
      "source": [
        "Odometer\n",
        "1. Fixed number of digits\n",
        "2. Readings CANNOT have digit 0\n",
        "3. Digits of readings must be in ascending order\n",
        "4. Readings roll over in either direction\n",
        "\n",
        "# 347, 348, 349, 356, 357, 358, 359, 367\n",
        "# 4689, 4679, 4678, 4589,\n",
        "\n",
        "# 129 - 146 = 134, 135, 136, 137, 138, 139, 145, 146\n",
        "\n",
        "# next_reading(), next_kth_reading(129, 7)\n",
        "# prev_reading(), prev_kth_reading(459, 56)\n",
        "# distance(a, b)"
      ],
      "metadata": {
        "id": "lir8imD9sp3u"
      }
    },
    {
      "cell_type": "code",
      "source": [
        "def non_zero_digit(n):\n",
        "    return '0' not in  str(n)\n"
      ],
      "metadata": {
        "id": "neTxTVzmuXeg"
      },
      "execution_count": null,
      "outputs": []
    },
    {
      "cell_type": "code",
      "source": [
        "non_zero_digit(234)"
      ],
      "metadata": {
        "id": "FK-5bp23Kf8Z"
      },
      "execution_count": null,
      "outputs": []
    },
    {
      "cell_type": "code",
      "source": [
        "def next_reading(n):\n",
        "    #print(n)\n",
        "    if non_zero_digit(n) and is_ascending(n):\n",
        "        n+=1\n",
        "    else:\n",
        "        #print(\"\\n\")\n",
        "        return(f\"For the number {n}: input reading does not satisfy the conditions\")\n",
        "        #return(\"1. Unsatisfy\")\n",
        "    if non_zero_digit(n) and is_ascending(n):\n",
        "        #print(\"\\n\")\n",
        "        return n\n",
        "    else:\n",
        "        #print(\"\\n\")\n",
        "        return(f\"For the number {n}: conditions does not satisfy for the next reading\")\n",
        "        #return(\"2. Unsatisfy\")"
      ],
      "metadata": {
        "id": "YwOIIM6M2ZO5"
      },
      "execution_count": null,
      "outputs": []
    },
    {
      "cell_type": "code",
      "source": [
        "next_reading(249)"
      ],
      "metadata": {
        "id": "XY2XuNPIMihB"
      },
      "execution_count": null,
      "outputs": []
    },
    {
      "cell_type": "code",
      "source": [
        "def next_kth_reading(n, k):\n",
        "    #print(n)\n",
        "    for i in range(0, k+2):\n",
        "\n",
        "        result = next_reading(n)\n",
        "        n+=1\n",
        "        #print(n)\n",
        "    return result"
      ],
      "metadata": {
        "id": "hSmpn-WLukNJ"
      },
      "execution_count": null,
      "outputs": []
    },
    {
      "cell_type": "markdown",
      "source": [
        "\n",
        "1----- 250\n",
        "3--- 251\n",
        "4-----252\n",
        "5-----253\n",
        "6----- 254\n",
        "6---- 255\n",
        "7--"
      ],
      "metadata": {
        "id": "tGB35tMlf2jN"
      }
    },
    {
      "cell_type": "code",
      "source": [
        "for i in range(8):\n",
        "    print(i)"
      ],
      "metadata": {
        "id": "ubWJzsSXXB6X"
      },
      "execution_count": null,
      "outputs": []
    },
    {
      "cell_type": "code",
      "source": [
        "next_kth_reading(249, 7)"
      ],
      "metadata": {
        "id": "E0jX2oZWRzvg"
      },
      "execution_count": null,
      "outputs": []
    },
    {
      "cell_type": "code",
      "source": [
        "def prev_reading():\n",
        "    pass"
      ],
      "metadata": {
        "id": "dwDTl8uPupvh"
      },
      "execution_count": null,
      "outputs": []
    },
    {
      "cell_type": "code",
      "source": [
        "def prev_kth_reading(459, 56):\n",
        "    pass"
      ],
      "metadata": {
        "id": "Zq4Rrm1EvFXs"
      },
      "execution_count": null,
      "outputs": []
    },
    {
      "cell_type": "code",
      "source": [
        "def distance(a, b):\n",
        "    pass"
      ],
      "metadata": {
        "id": "H1f9mbbfvNd6"
      },
      "execution_count": null,
      "outputs": []
    },
    {
      "cell_type": "code",
      "source": [],
      "metadata": {
        "id": "AK6Q3NUovHwA"
      },
      "execution_count": null,
      "outputs": []
    }
  ]
}
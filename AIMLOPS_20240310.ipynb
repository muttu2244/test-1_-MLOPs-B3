{
  "nbformat": 4,
  "nbformat_minor": 0,
  "metadata": {
    "colab": {
      "private_outputs": true,
      "provenance": [],
      "include_colab_link": true
    },
    "kernelspec": {
      "name": "python3",
      "display_name": "Python 3"
    },
    "language_info": {
      "name": "python"
    }
  },
  "cells": [
    {
      "cell_type": "markdown",
      "metadata": {
        "id": "view-in-github",
        "colab_type": "text"
      },
      "source": [
        "<a href=\"https://colab.research.google.com/github/muttu2244/test-1_-MLOPs-B3/blob/main/AIMLOPS_20240310.ipynb\" target=\"_parent\"><img src=\"https://colab.research.google.com/assets/colab-badge.svg\" alt=\"Open In Colab\"/></a>"
      ]
    },
    {
      "cell_type": "code",
      "execution_count": null,
      "metadata": {
        "id": "LVQhRt26aVn_"
      },
      "outputs": [],
      "source": [
        "def last_digit(n: int) -> int:\n",
        "    return n % 10\n",
        "\n",
        "def is_ascending(n: int) -> bool:\n",
        "    if n < 10:\n",
        "        return True\n",
        "    # if n % 10 <= (n // 10) % 10:\n",
        "    if last_digit(n) <= last_digit(n // 10):\n",
        "        return False\n",
        "    return is_ascending(n // 10)"
      ]
    },
    {
      "cell_type": "code",
      "source": [
        "def size(n: int) -> int:\n",
        "    return len(str(n))\n",
        "\n",
        "def limits(n: int) -> tuple[int, int]:\n",
        "    DIGITS = \"123456789\"\n",
        "    k = size(n)\n",
        "    return int(DIGITS[:k]), int(DIGITS[-k:])"
      ],
      "metadata": {
        "id": "FfB_wHVzbfwC"
      },
      "execution_count": null,
      "outputs": []
    },
    {
      "cell_type": "code",
      "source": [
        "limits(169)"
      ],
      "metadata": {
        "id": "EsPxJORWiAw7"
      },
      "execution_count": null,
      "outputs": []
    },
    {
      "cell_type": "code",
      "source": [
        "def next_reading(reading: int) -> int:\n",
        "    lo, hi = limits(reading)\n",
        "    if reading == hi:\n",
        "        return lo\n",
        "    reading += 1\n",
        "    while not is_ascending(reading):\n",
        "        reading += 1\n",
        "    return reading"
      ],
      "metadata": {
        "id": "Oz4a1sNliCPg"
      },
      "execution_count": null,
      "outputs": []
    },
    {
      "cell_type": "code",
      "source": [
        "def prev_reading(reading: int) -> int:\n",
        "    lo, hi = limits(reading)\n",
        "    if reading == lo:\n",
        "        return hi\n",
        "    reading -= 1\n",
        "    while not is_ascending(reading):\n",
        "        reading -= 1\n",
        "    return reading"
      ],
      "metadata": {
        "id": "iW9JtDTOiYUX"
      },
      "execution_count": null,
      "outputs": []
    },
    {
      "cell_type": "code",
      "source": [
        "def distance(a_reading: int, b_reading: int) -> int:\n",
        "    if size(a_reading) != size(b_reading):\n",
        "        return -1\n",
        "    diff = 0\n",
        "    while a_reading != b_reading:\n",
        "        diff += 1\n",
        "        a_reading = next_reading(a_reading)\n",
        "    return diff"
      ],
      "metadata": {
        "id": "iBzdk8-ZilL7"
      },
      "execution_count": null,
      "outputs": []
    },
    {
      "cell_type": "code",
      "source": [
        "def next_kth_reading(reading: int, step: int) -> int:\n",
        "    for _ in range(step):\n",
        "        reading = next_reading(reading)\n",
        "    return reading\n",
        "\n",
        "def prev_kth_reading(reading: int, step: int) -> int:\n",
        "    for _ in range(step):\n",
        "        reading = prev_reading(reading)\n",
        "    return reading"
      ],
      "metadata": {
        "id": "EVD0DgH4ofBl"
      },
      "execution_count": null,
      "outputs": []
    },
    {
      "cell_type": "markdown",
      "source": [
        "# Default parameters"
      ],
      "metadata": {
        "id": "74dwEtlWly0-"
      }
    },
    {
      "cell_type": "code",
      "source": [
        "for i in range(10):\n",
        "    print(i)"
      ],
      "metadata": {
        "id": "Lt7gMsJUpBWG"
      },
      "execution_count": null,
      "outputs": []
    },
    {
      "cell_type": "code",
      "source": [
        "for i in range(10):\n",
        "    print(i, end=\" \")"
      ],
      "metadata": {
        "id": "fBkPK9oUpFM-"
      },
      "execution_count": null,
      "outputs": []
    },
    {
      "cell_type": "code",
      "source": [
        "def forward(reading: int, step: int = 1) -> int:\n",
        "    lo, hi = limits(reading)\n",
        "    for _ in range(step):\n",
        "        if reading == hi:\n",
        "            reading = lo\n",
        "        else:\n",
        "            reading += 1\n",
        "            while not is_ascending(reading):\n",
        "                reading += 1\n",
        "    return reading"
      ],
      "metadata": {
        "id": "UA4FafmZpOKw"
      },
      "execution_count": null,
      "outputs": []
    },
    {
      "cell_type": "code",
      "source": [
        "forward(679)"
      ],
      "metadata": {
        "id": "ILbARb5Up6EM"
      },
      "execution_count": null,
      "outputs": []
    },
    {
      "cell_type": "code",
      "source": [
        "forward(679, 12)"
      ],
      "metadata": {
        "id": "71qBIRCYp7s5"
      },
      "execution_count": null,
      "outputs": []
    },
    {
      "cell_type": "code",
      "source": [
        "def backward(reading: int, step: int = 1) -> int:\n",
        "    lo, hi = limits(reading)\n",
        "    for _ in range(step):\n",
        "        if reading == lo:\n",
        "            reading = hi\n",
        "        else:\n",
        "            reading -= 1\n",
        "            while not is_ascending(reading):\n",
        "                reading -= 1\n",
        "    return reading"
      ],
      "metadata": {
        "id": "K6kH2r1_p9gk"
      },
      "execution_count": null,
      "outputs": []
    },
    {
      "cell_type": "code",
      "source": [
        "forward(1234567, 1200)"
      ],
      "metadata": {
        "id": "EvOqwckMqIGJ"
      },
      "execution_count": null,
      "outputs": []
    },
    {
      "cell_type": "code",
      "source": [
        "class Odometer:\n",
        "    pass"
      ],
      "metadata": {
        "id": "-DKf3I_BsB-_"
      },
      "execution_count": null,
      "outputs": []
    },
    {
      "cell_type": "code",
      "source": [
        "p = Odometer()"
      ],
      "metadata": {
        "id": "fze3QNsstBnE"
      },
      "execution_count": null,
      "outputs": []
    },
    {
      "cell_type": "code",
      "source": [
        "type(p)"
      ],
      "metadata": {
        "id": "uvQscI_NtI7S"
      },
      "execution_count": null,
      "outputs": []
    },
    {
      "cell_type": "code",
      "source": [
        "def f():\n",
        "    return 0"
      ],
      "metadata": {
        "id": "ol7Vvl7BtK-c"
      },
      "execution_count": null,
      "outputs": []
    },
    {
      "cell_type": "code",
      "source": [
        "class Odometer:\n",
        "    def __init__(self, size: int):\n",
        "        self.size = size\n",
        "        self.LO = int(\"123456789\"[:size])\n",
        "        self.HI = int(\"123456789\"[-size:])"
      ],
      "metadata": {
        "id": "GnCL9c_DtssM"
      },
      "execution_count": null,
      "outputs": []
    },
    {
      "cell_type": "code",
      "source": [
        "p = Odometer(3)"
      ],
      "metadata": {
        "id": "skCVh22KubVM"
      },
      "execution_count": null,
      "outputs": []
    },
    {
      "cell_type": "code",
      "source": [
        "p.size"
      ],
      "metadata": {
        "id": "Em1pRKMvukkD"
      },
      "execution_count": null,
      "outputs": []
    },
    {
      "cell_type": "code",
      "source": [
        "p.LO"
      ],
      "metadata": {
        "id": "F0gZ1coruwKg"
      },
      "execution_count": null,
      "outputs": []
    },
    {
      "cell_type": "code",
      "source": [
        "p.HI"
      ],
      "metadata": {
        "id": "MiN1up4huxBM"
      },
      "execution_count": null,
      "outputs": []
    },
    {
      "cell_type": "code",
      "source": [
        "print(p)"
      ],
      "metadata": {
        "id": "7WCLZreQxtH2"
      },
      "execution_count": null,
      "outputs": []
    },
    {
      "cell_type": "code",
      "source": [
        "class Odometer:\n",
        "    def __init__(self, size):\n",
        "        self.size = size\n",
        "        self.LO = int(\"123456789\"[:size])\n",
        "        self.HI = int(\"123456789\"[-size:])\n",
        "        self.reading = self.LO\n",
        "\n",
        "    def __str__(self) -> str:\n",
        "        return str(self.reading)"
      ],
      "metadata": {
        "id": "WPPgJdiaxtqK"
      },
      "execution_count": null,
      "outputs": []
    },
    {
      "cell_type": "code",
      "source": [
        "p = Odometer(4)"
      ],
      "metadata": {
        "id": "CQWYdmhI5_J9"
      },
      "execution_count": null,
      "outputs": []
    },
    {
      "cell_type": "code",
      "source": [
        "print(p)"
      ],
      "metadata": {
        "id": "wj8vtw7H6J6E"
      },
      "execution_count": null,
      "outputs": []
    },
    {
      "cell_type": "code",
      "source": [
        "p"
      ],
      "metadata": {
        "id": "pPvHOeiv6NU8"
      },
      "execution_count": null,
      "outputs": []
    },
    {
      "cell_type": "code",
      "source": [
        "rs = \"Hello\""
      ],
      "metadata": {
        "id": "MoEmJ3L_7fh6"
      },
      "execution_count": null,
      "outputs": []
    },
    {
      "cell_type": "code",
      "source": [
        "print(rs)"
      ],
      "metadata": {
        "id": "cD_8JvTV7oqN"
      },
      "execution_count": null,
      "outputs": []
    },
    {
      "cell_type": "code",
      "source": [
        "rs"
      ],
      "metadata": {
        "id": "ktjTbsQv7ph7"
      },
      "execution_count": null,
      "outputs": []
    },
    {
      "cell_type": "code",
      "source": [
        "rs2 = \"Hello \\n World\""
      ],
      "metadata": {
        "id": "t5gDV2Qs7qbC"
      },
      "execution_count": null,
      "outputs": []
    },
    {
      "cell_type": "code",
      "source": [
        "print(rs2)"
      ],
      "metadata": {
        "id": "PcDTsWfC7xdq"
      },
      "execution_count": null,
      "outputs": []
    },
    {
      "cell_type": "code",
      "source": [
        "rs2"
      ],
      "metadata": {
        "id": "XTRL0pbC7yZe"
      },
      "execution_count": null,
      "outputs": []
    },
    {
      "cell_type": "code",
      "source": [
        "class Odometer:\n",
        "    def __init__(self, size):\n",
        "        self.size = size\n",
        "        self.LO = int(\"123456789\"[:size])\n",
        "        self.HI = int(\"123456789\"[-size:])\n",
        "        self.reading = self.LO\n",
        "\n",
        "    def __str__(self) -> str:\n",
        "        return str(self.reading)\n",
        "\n",
        "    def __repr__(self) -> str:\n",
        "        return f'{self.LO} << {self.reading} >> {self.HI}'"
      ],
      "metadata": {
        "id": "8sWp6FTa7zDp"
      },
      "execution_count": null,
      "outputs": []
    },
    {
      "cell_type": "code",
      "source": [
        "q = Odometer(5)"
      ],
      "metadata": {
        "id": "-KBAhUKW8PMA"
      },
      "execution_count": null,
      "outputs": []
    },
    {
      "cell_type": "code",
      "source": [
        "print(q)"
      ],
      "metadata": {
        "id": "CYBQtvgt8SaX"
      },
      "execution_count": null,
      "outputs": []
    },
    {
      "cell_type": "code",
      "source": [
        "q"
      ],
      "metadata": {
        "id": "L6LI4-0q8ThA"
      },
      "execution_count": null,
      "outputs": []
    },
    {
      "cell_type": "code",
      "source": [
        "print(repr(q))"
      ],
      "metadata": {
        "id": "sa2cDEwk8Uyz"
      },
      "execution_count": null,
      "outputs": []
    },
    {
      "cell_type": "code",
      "source": [
        "class Odometer:\n",
        "    def __init__(self, size):\n",
        "        self.size = size\n",
        "        self.LO = int(\"123456789\"[:size])\n",
        "        self.HI = int(\"123456789\"[-size:])\n",
        "        self.reading = self.LO\n",
        "\n",
        "    def __str__(self) -> str:\n",
        "        return str(self.reading)\n",
        "\n",
        "    def __repr__(self) -> str:\n",
        "        return f'{self.LO} << {self.reading} >> {self.HI}'\n",
        "\n",
        "    def is_valid(self, n: int) -> bool:\n",
        "        s = str(n)\n",
        "        return all([a < b for a, b in zip(s, s[1:])])\n",
        "\n",
        "    def forward(self, step: int = 1):\n",
        "        for _ in range(step):\n",
        "            if self.reading == self.HI:\n",
        "                self.reading = self.LO\n",
        "            else:\n",
        "                self.reading += 1\n",
        "                while not self.is_valid(self.reading):\n",
        "                    self.reading += 1\n",
        "\n",
        "    def backward(self, step: int = 1):\n",
        "        for _ in range(step):\n",
        "            if self.reading == self.LO:\n",
        "                self.reading = self.HI\n",
        "            else:\n",
        "                self.reading -= 1\n",
        "                while not self.is_valid(self.reading):\n",
        "                    self.reading -= 1"
      ],
      "metadata": {
        "id": "avspmKF88oJI"
      },
      "execution_count": null,
      "outputs": []
    },
    {
      "cell_type": "markdown",
      "source": [],
      "metadata": {
        "id": "ece2XAj5C7Hz"
      }
    },
    {
      "cell_type": "code",
      "source": [
        "o = Odometer(3)\n",
        "print(o)"
      ],
      "metadata": {
        "id": "2e3XWcTx9N7u"
      },
      "execution_count": null,
      "outputs": []
    },
    {
      "cell_type": "code",
      "source": [
        "o.forward()\n",
        "print(o)"
      ],
      "metadata": {
        "id": "RCEjL1U697gT"
      },
      "execution_count": null,
      "outputs": []
    },
    {
      "cell_type": "code",
      "source": [
        "o.forward(7)\n",
        "print(o)"
      ],
      "metadata": {
        "id": "nFa6zaIa9-oV"
      },
      "execution_count": null,
      "outputs": []
    },
    {
      "cell_type": "code",
      "source": [
        "o.backward(9)\n",
        "print(o)"
      ],
      "metadata": {
        "id": "Erlk-8-x-BRA"
      },
      "execution_count": null,
      "outputs": []
    },
    {
      "cell_type": "code",
      "source": [
        "o2 = Odometer(7)"
      ],
      "metadata": {
        "id": "MjV_nHe2-EdA"
      },
      "execution_count": null,
      "outputs": []
    },
    {
      "cell_type": "code",
      "source": [
        "print(o2)"
      ],
      "metadata": {
        "id": "fCX1k7qkCjbV"
      },
      "execution_count": null,
      "outputs": []
    },
    {
      "cell_type": "code",
      "source": [
        "o2.forward(3)"
      ],
      "metadata": {
        "id": "wr51bf2dCkT7"
      },
      "execution_count": null,
      "outputs": []
    },
    {
      "cell_type": "code",
      "source": [
        "print(o2)"
      ],
      "metadata": {
        "id": "zwZK6NarCmbA"
      },
      "execution_count": null,
      "outputs": []
    },
    {
      "cell_type": "code",
      "source": [
        "class Odometer:\n",
        "    def __init__(self, size):\n",
        "        self.size = size\n",
        "        self.LO = int(\"123456789\"[:size])\n",
        "        self.HI = int(\"123456789\"[-size:])\n",
        "        self.reading = self.LO\n",
        "\n",
        "    def __str__(self) -> str:\n",
        "        return str(self.reading)\n",
        "\n",
        "    def __repr__(self) -> str:\n",
        "        return f'{self.LO} << {self.reading} >> {self.HI}'\n",
        "\n",
        "    def is_valid(self, n: int) -> bool:\n",
        "        s = str(n)\n",
        "        return all([a < b for a, b in zip(s, s[1:])])\n",
        "\n",
        "    def forward(self, step: int = 1):\n",
        "        for _ in range(step):\n",
        "            if self.reading == self.HI:\n",
        "                self.reading = self.LO\n",
        "            else:\n",
        "                self.reading += 1\n",
        "                while not self.is_valid(self.reading):\n",
        "                    self.reading += 1\n",
        "\n",
        "    def backward(self, step: int = 1):\n",
        "        for _ in range(step):\n",
        "            if self.reading == self.LO:\n",
        "                self.reading = self.HI\n",
        "            else:\n",
        "                self.reading -= 1\n",
        "                while not self.is_valid(self.reading):\n",
        "                    self.reading -= 1\n",
        "\n",
        "    def distance(self, other: Odometer) -> int:\n",
        "        if self.size != other.size:\n",
        "            return -1\n",
        "        dist = 0\n",
        "        copy = Odometer(self.size)\n",
        "        copy.reading = self.reading\n",
        "        while copy.reading != other.reading:\n",
        "            dist += 1\n",
        "            copy.forward()\n",
        "        return dist"
      ],
      "metadata": {
        "id": "5VyCdfE-CnW5"
      },
      "execution_count": null,
      "outputs": []
    },
    {
      "cell_type": "code",
      "source": [
        "p1 = Odometer(4)\n",
        "p1.forward(7)\n",
        "p2 = Odometer(4)\n",
        "p2.backward(3)\n",
        "\n",
        "p3 = Odometer(3)"
      ],
      "metadata": {
        "id": "cVJB4pORD97Y"
      },
      "execution_count": null,
      "outputs": []
    },
    {
      "cell_type": "code",
      "source": [
        "p1.distance(p2)"
      ],
      "metadata": {
        "id": "G5ZgSF3TGuxi"
      },
      "execution_count": null,
      "outputs": []
    },
    {
      "cell_type": "code",
      "source": [
        "p1"
      ],
      "metadata": {
        "id": "Ib8luvQYMMFB"
      },
      "execution_count": null,
      "outputs": []
    },
    {
      "cell_type": "code",
      "source": [
        "p2.distance(p1)"
      ],
      "metadata": {
        "id": "6rJhjt58GyTx"
      },
      "execution_count": null,
      "outputs": []
    },
    {
      "cell_type": "code",
      "source": [
        "p1.distance(p3)"
      ],
      "metadata": {
        "id": "3qFserACG0um"
      },
      "execution_count": null,
      "outputs": []
    },
    {
      "cell_type": "code",
      "source": [
        "def is_asc(n: int) -> bool:\n",
        "    s = str(n)\n",
        "    return all([a < b for a, b in zip(s, s[1:])])\n",
        "\n",
        "class Odometer:\n",
        "    def __init__(self, size):\n",
        "        self.size = size\n",
        "        self.LO = int(\"123456789\"[:size])\n",
        "        self.HI = int(\"123456789\"[-size:])\n",
        "        self.reading = self.LO\n",
        "\n",
        "    def __str__(self) -> str:\n",
        "        return str(self.reading)\n",
        "\n",
        "    def __repr__(self) -> str:\n",
        "        return f'{self.LO} << {self.reading} >> {self.HI}'\n",
        "\n",
        "    def forward(self, step: int = 1):\n",
        "        for _ in range(step):\n",
        "            if self.reading == self.HI:\n",
        "                self.reading = self.LO\n",
        "            else:\n",
        "                self.reading += 1\n",
        "                while not is_asc(self.reading):\n",
        "                    self.reading += 1\n",
        "\n",
        "    def backward(self, step: int = 1):\n",
        "        for _ in range(step):\n",
        "            if self.reading == self.LO:\n",
        "                self.reading = self.HI\n",
        "            else:\n",
        "                self.reading -= 1\n",
        "                while not is_asc(self.reading):\n",
        "                    self.reading -= 1\n",
        "\n",
        "    def distance(self, other: Odometer) -> int:\n",
        "        if self.size != other.size:\n",
        "            return -1\n",
        "        dist = 0\n",
        "        copy = Odometer(self.size)\n",
        "        copy.reading = self.reading\n",
        "        while copy.reading != other.reading:\n",
        "            dist += 1\n",
        "            copy.forward()\n",
        "        return dist"
      ],
      "metadata": {
        "id": "6dZ_HTytG23O"
      },
      "execution_count": null,
      "outputs": []
    },
    {
      "cell_type": "code",
      "source": [
        "o = Odometer(3)"
      ],
      "metadata": {
        "id": "qXUBTn94iHVA"
      },
      "execution_count": null,
      "outputs": []
    },
    {
      "cell_type": "code",
      "source": [
        "o.forward(5)"
      ],
      "metadata": {
        "id": "r2boC_sWiKQ4"
      },
      "execution_count": null,
      "outputs": []
    },
    {
      "cell_type": "code",
      "source": [
        "print(o)"
      ],
      "metadata": {
        "id": "bDxv-y-OiMVZ"
      },
      "execution_count": null,
      "outputs": []
    },
    {
      "cell_type": "code",
      "source": [
        "class Odometer:\n",
        "    def __init__(self, size):\n",
        "        self.size = size\n",
        "        self.LO = int(\"123456789\"[:size])\n",
        "        self.HI = int(\"123456789\"[-size:])\n",
        "        self.reading = self.LO\n",
        "\n",
        "    def __str__(self) -> str:\n",
        "        return str(self.reading)\n",
        "\n",
        "    def __repr__(self) -> str:\n",
        "        return f'{self.LO} << {self.reading} >> {self.HI}'\n",
        "\n",
        "    @staticmethod\n",
        "    def is_Asc(n: int) -> bool:\n",
        "        s = str(n)\n",
        "        return all([a < b for a, b in zip(s, s[1:])])\n",
        "\n",
        "    def forward(self, step: int = 1):\n",
        "        for _ in range(step):\n",
        "            if self.reading == self.HI:\n",
        "                self.reading = self.LO\n",
        "            else:\n",
        "                self.reading += 1\n",
        "                while not self.is_Asc(self.reading):\n",
        "                    self.reading += 1\n",
        "\n",
        "    def backward(self, step: int = 1):\n",
        "        for _ in range(step):\n",
        "            if self.reading == self.LO:\n",
        "                self.reading = self.HI\n",
        "            else:\n",
        "                self.reading -= 1\n",
        "                while not self.is_Asc(self.reading):\n",
        "                    self.reading -= 1\n",
        "\n",
        "    def distance(self, other: Odometer) -> int:\n",
        "        if self.size != other.size:\n",
        "            return -1\n",
        "        dist = 0\n",
        "        copy = Odometer(self.size)\n",
        "        copy.reading = self.reading\n",
        "        while copy.reading != other.reading:\n",
        "            dist += 1\n",
        "            copy.forward()\n",
        "        return dist"
      ],
      "metadata": {
        "id": "_wek9zFAiNH9"
      },
      "execution_count": null,
      "outputs": []
    },
    {
      "cell_type": "code",
      "source": [
        "q = Odometer(5)"
      ],
      "metadata": {
        "id": "7Ll4ZFe7iqIn"
      },
      "execution_count": null,
      "outputs": []
    },
    {
      "cell_type": "code",
      "source": [
        "print(q)"
      ],
      "metadata": {
        "id": "040ZXygSjpxw"
      },
      "execution_count": null,
      "outputs": []
    },
    {
      "cell_type": "code",
      "source": [
        "q.forward(4)"
      ],
      "metadata": {
        "id": "9Ys2iE-vjqzl"
      },
      "execution_count": null,
      "outputs": []
    },
    {
      "cell_type": "code",
      "source": [
        "print(q)"
      ],
      "metadata": {
        "id": "bXIYJD-2js9K"
      },
      "execution_count": null,
      "outputs": []
    },
    {
      "cell_type": "code",
      "source": [
        "Odometer.is_Asc(123)"
      ],
      "metadata": {
        "id": "tsBlLHWJjt0V"
      },
      "execution_count": null,
      "outputs": []
    },
    {
      "cell_type": "code",
      "source": [
        "is_Asc(123)"
      ],
      "metadata": {
        "id": "ZRs6DlYNj0Po"
      },
      "execution_count": null,
      "outputs": []
    },
    {
      "cell_type": "code",
      "source": [
        "from itertools import combinations as nCr"
      ],
      "metadata": {
        "id": "SvcEhBJnj4BD"
      },
      "execution_count": null,
      "outputs": []
    },
    {
      "cell_type": "code",
      "source": [
        "two = nCr(\"123456789\", 2)"
      ],
      "metadata": {
        "id": "Pk2FIB5QlT-V"
      },
      "execution_count": null,
      "outputs": []
    },
    {
      "cell_type": "code",
      "source": [
        "print(two)"
      ],
      "metadata": {
        "id": "ISQsQsGBlYiC"
      },
      "execution_count": null,
      "outputs": []
    },
    {
      "cell_type": "code",
      "source": [
        "print(list(two))"
      ],
      "metadata": {
        "id": "wqPt9uPzlZ64"
      },
      "execution_count": null,
      "outputs": []
    },
    {
      "cell_type": "code",
      "source": [
        "three = [''.join(_) for _ in nCr(\"123456789\", 3)]"
      ],
      "metadata": {
        "id": "LA-RPshclcSq"
      },
      "execution_count": null,
      "outputs": []
    },
    {
      "cell_type": "code",
      "source": [
        "print(three)"
      ],
      "metadata": {
        "id": "UNXE9rV0luIh"
      },
      "execution_count": null,
      "outputs": []
    },
    {
      "cell_type": "code",
      "source": [
        "all_readings = {}\n",
        "for r in range(2, 9):\n",
        "    all_readings[r] = [''.join(_) for _ in nCr(\"123456789\", r)]\n"
      ],
      "metadata": {
        "id": "0sA2bHLIlvts"
      },
      "execution_count": null,
      "outputs": []
    },
    {
      "cell_type": "code",
      "source": [
        "print(all_readings[8])"
      ],
      "metadata": {
        "id": "-bR4zioWmh_3"
      },
      "execution_count": null,
      "outputs": []
    },
    {
      "cell_type": "code",
      "source": [
        "print(all_readings[2])"
      ],
      "metadata": {
        "id": "JSz3Lhk9FEdQ"
      },
      "execution_count": null,
      "outputs": []
    },
    {
      "cell_type": "code",
      "source": [
        "class Odometer:\n",
        "    first_time = True\n",
        "    all_readings = dict()\n",
        "\n",
        "    def __init__(self, size: int):\n",
        "        if Odometer.first_time:\n",
        "            Odometer.first_time = False\n",
        "            #print(\"Generating readings\")\n",
        "            for r in range(2, 9):\n",
        "                Odometer.all_readings[r] = [''.join(_) for _ in nCr(\"123456789\", r)]\n",
        "\n",
        "        self.size = size\n",
        "        self.readings = Odometer.all_readings[size]\n",
        "        self.pos = 0\n",
        "        self.length = len(self.readings)\n",
        "\n",
        "    def __str__(self) -> str:\n",
        "        return self.readings[self.pos]\n",
        "\n",
        "    def __repr__(self) -> str:\n",
        "        return f'{self.pos} of {self.length}'\n",
        "\n",
        "    def forward(self, step: int = 1):\n",
        "        self.pos += step\n",
        "        self.pos %= self.length\n",
        "\n",
        "    def backward(self, step: int = 1):\n",
        "        self.pos -= step\n",
        "        self.pos %= self.length\n",
        "\n",
        "    def distance(self, other: Odometer) -> int:\n",
        "        if self.size != other.size:\n",
        "            return -1\n",
        "        if self.pos <= other.pos:\n",
        "            return other.pos - self.pos\n",
        "        else:\n",
        "            return self.length - self.pos + other.pos"
      ],
      "metadata": {
        "id": "zBFz8y6mmny6"
      },
      "execution_count": null,
      "outputs": []
    },
    {
      "cell_type": "code",
      "source": [
        "o = Odometer(3)"
      ],
      "metadata": {
        "id": "uXeVmnkFq-vx"
      },
      "execution_count": null,
      "outputs": []
    },
    {
      "cell_type": "code",
      "source": [
        "p = Odometer(4)"
      ],
      "metadata": {
        "id": "UbaePeUQscPe"
      },
      "execution_count": null,
      "outputs": []
    },
    {
      "cell_type": "code",
      "source": [
        "q = Odometer(4)"
      ],
      "metadata": {
        "id": "v7gkGJ9jseTG"
      },
      "execution_count": null,
      "outputs": []
    },
    {
      "cell_type": "code",
      "source": [
        "p.forward(7)\n",
        "q.backward(4)"
      ],
      "metadata": {
        "id": "uZ2fHzq3vMeZ"
      },
      "execution_count": null,
      "outputs": []
    },
    {
      "cell_type": "code",
      "source": [
        "p.distance(q)"
      ],
      "metadata": {
        "id": "99K1zb5RvkA4"
      },
      "execution_count": null,
      "outputs": []
    },
    {
      "cell_type": "code",
      "source": [
        "q.distance(p)"
      ],
      "metadata": {
        "id": "2aRdAiJBvlVW"
      },
      "execution_count": null,
      "outputs": []
    },
    {
      "cell_type": "code",
      "source": [
        "o.greeting = \"Hello there!\""
      ],
      "metadata": {
        "id": "_4hKeMfMvoLH"
      },
      "execution_count": null,
      "outputs": []
    },
    {
      "cell_type": "code",
      "source": [
        "p.greeting"
      ],
      "metadata": {
        "id": "0pYt3QAowaSH"
      },
      "execution_count": null,
      "outputs": []
    },
    {
      "cell_type": "code",
      "source": [
        "o.greeting"
      ],
      "metadata": {
        "id": "-exdfu6lwf9o"
      },
      "execution_count": null,
      "outputs": []
    },
    {
      "cell_type": "code",
      "source": [
        "greeting"
      ],
      "metadata": {
        "id": "20SBRJBswh7K"
      },
      "execution_count": null,
      "outputs": []
    },
    {
      "cell_type": "code",
      "source": [
        "o.greeting"
      ],
      "metadata": {
        "id": "SS5fkDxWykiS"
      },
      "execution_count": null,
      "outputs": []
    },
    {
      "cell_type": "code",
      "source": [
        "o.__dir__()"
      ],
      "metadata": {
        "id": "8mUTgIxgymQh"
      },
      "execution_count": null,
      "outputs": []
    },
    {
      "cell_type": "code",
      "source": [
        "class Odometer:\n",
        "    first_time = True\n",
        "    all_readings = dict()\n",
        "\n",
        "    def __init__(self, size: int):\n",
        "        if Odometer.first_time:\n",
        "            Odometer.first_time = False\n",
        "            #print(\"Generating readings\")\n",
        "            for r in range(2, 9):\n",
        "                Odometer.all_readings[r] = [''.join(_) for _ in nCr(\"123456789\", r)]\n",
        "\n",
        "        self.size = size\n",
        "        self.readings = Odometer.all_readings[size]\n",
        "        self.pos = 0\n",
        "        self.length = len(self.readings)\n",
        "\n",
        "    def __str__(self) -> str:\n",
        "        return self.readings[self.pos]\n",
        "\n",
        "    def __repr__(self) -> str:\n",
        "        return f'{self.pos} of {self.length}'\n",
        "\n",
        "    def forward(self, step: int = 1):\n",
        "        self.pos += step\n",
        "        self.pos %= self.length\n",
        "\n",
        "    def backward(self, step: int = 1):\n",
        "        self.pos -= step\n",
        "        self.pos %= self.length\n",
        "\n",
        "    def __sub__(self, other: Odometer) -> int:\n",
        "        if self.size != other.size:\n",
        "            return -1\n",
        "        if self.pos <= other.pos:\n",
        "            return other.pos - self.pos\n",
        "        else:\n",
        "            return self.length - self.pos + other.pos"
      ],
      "metadata": {
        "id": "e2h-eaeFyo1-"
      },
      "execution_count": null,
      "outputs": []
    },
    {
      "cell_type": "code",
      "source": [
        "p = Odometer(3)"
      ],
      "metadata": {
        "id": "JjoQPKSfz2JP"
      },
      "execution_count": null,
      "outputs": []
    },
    {
      "cell_type": "code",
      "source": [
        "q = Odometer(5)\n",
        "p1 = Odometer(3)\n",
        "p1.forward(3)\n",
        "p.backward(3)"
      ],
      "metadata": {
        "id": "tylJiiCcz4h7"
      },
      "execution_count": null,
      "outputs": []
    },
    {
      "cell_type": "code",
      "source": [
        "p - q"
      ],
      "metadata": {
        "id": "dauXYs8cz66G"
      },
      "execution_count": null,
      "outputs": []
    },
    {
      "cell_type": "code",
      "source": [
        "p - p1"
      ],
      "metadata": {
        "id": "gbA3idu8z84K"
      },
      "execution_count": null,
      "outputs": []
    },
    {
      "cell_type": "code",
      "source": [
        "p1 - p"
      ],
      "metadata": {
        "id": "li09_mpT0F4F"
      },
      "execution_count": null,
      "outputs": []
    },
    {
      "cell_type": "markdown",
      "source": [
        "# interval\n",
        "\n",
        "(1, 8) (4, 10) overlap (4, 8) merge (1, 10)\n",
        "\n",
        "(4, 17) (24, 56) are disjoint\n",
        "\n",
        "(3, 7) is inside (1, 9)\n",
        "\n",
        "extend_right, extend_left, shrink_right, shrink_left, move_right, move_left"
      ],
      "metadata": {
        "id": "iDtHlMuM08GM"
      }
    },
    {
      "cell_type": "code",
      "source": [
        "class Interval:\n",
        "\n",
        "    def __init__(self, start, limit)"
      ],
      "metadata": {
        "id": "X4G7Fc9k2YOZ"
      },
      "execution_count": null,
      "outputs": []
    }
  ]
}